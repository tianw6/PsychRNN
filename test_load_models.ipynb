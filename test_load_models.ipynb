{
 "cells": [
  {
   "cell_type": "code",
   "execution_count": null,
   "id": "808b45db",
   "metadata": {},
   "outputs": [],
   "source": [
    "# Code to check the loaded model error: when load the trained model and test with trials, it failed "
   ]
  },
  {
   "cell_type": "code",
   "execution_count": 1,
   "id": "bf4d55d4",
   "metadata": {},
   "outputs": [],
   "source": [
    "%load_ext autoreload\n",
    "%autoreload 2"
   ]
  },
  {
   "cell_type": "markdown",
   "id": "3de1cc6f",
   "metadata": {},
   "source": [
    "### Imports"
   ]
  },
  {
   "cell_type": "code",
   "execution_count": 1,
   "id": "c8aeb456",
   "metadata": {
    "scrolled": true
   },
   "outputs": [],
   "source": [
    "import tensorflow as tf\n",
    "from psychrnn.backend.models.basic import Basic\n",
    "from psychrnn.backend.gain.basic2 import Basic2\n",
    "from psychrnn.backend.gain.loss import rt_mask_mse_06, rt_mask_mse_07, rt_mask_mse_08\n",
    "from psychrnn.tasks.checker import Checkerboard2AFC\n",
    "\n",
    "from tqdm import tqdm\n",
    "import numpy as np\n",
    "import pandas as pd\n",
    "from matplotlib import pyplot as plt\n",
    "%matplotlib inline\n",
    "\n",
    "import os"
   ]
  },
  {
   "cell_type": "markdown",
   "id": "a223d068",
   "metadata": {},
   "source": [
    "### Initialize Task"
   ]
  },
  {
   "cell_type": "code",
   "execution_count": 2,
   "id": "c8bd5dd8",
   "metadata": {},
   "outputs": [],
   "source": [
    "experiment = 'interactive'\n",
    "name = 'basic'"
   ]
  },
  {
   "cell_type": "code",
   "execution_count": 3,
   "id": "c8603b3e",
   "metadata": {},
   "outputs": [],
   "source": [
    "dt = 10\n",
    "tau = 50\n",
    "T = 3000\n",
    "N_batch = 50\n",
    "N_rec = 100"
   ]
  },
  {
   "cell_type": "code",
   "execution_count": 4,
   "id": "37c8fca7",
   "metadata": {},
   "outputs": [],
   "source": [
    "task = Checkerboard2AFC(dt=dt, tau=tau, T=T, N_batch=N_batch)"
   ]
  },
  {
   "cell_type": "markdown",
   "id": "a4f4baf1",
   "metadata": {},
   "source": [
    "### Set up parameters"
   ]
  },
  {
   "cell_type": "code",
   "execution_count": 5,
   "id": "fec8ed85",
   "metadata": {},
   "outputs": [],
   "source": [
    "network_params = task.get_task_params()\n",
    "network_params['name'] = name\n",
    "network_params['N_rec'] = N_rec\n",
    "network_params['rec_noise'] = 0.1\n",
    "\n",
    "network_params[\"transfer_function\"] = tf.nn.relu\n",
    "network_params[\"output_transfer_function\"] = tf.nn.sigmoid\n",
    "\n",
    "network_params[\"loss_function\"] = \"rt_mask_mse\"\n",
    "network_params[\"rt_mask_mse\"] = rt_mask_mse_07\n"
   ]
  },
  {
   "cell_type": "code",
   "execution_count": 6,
   "id": "c1502bc3",
   "metadata": {},
   "outputs": [],
   "source": [
    "try:\n",
    "    model.destruct()\n",
    "except:\n",
    "    pass\n",
    "\n",
    "model = Basic2(network_params)"
   ]
  },
  {
   "cell_type": "markdown",
   "id": "28304ac6",
   "metadata": {},
   "source": [
    "### Train Model"
   ]
  },
  {
   "cell_type": "code",
   "execution_count": 7,
   "id": "1124a86d",
   "metadata": {},
   "outputs": [],
   "source": [
    "trials = 25000\n",
    "train_params = {}\n",
    "train_params['save_weights_path'] =  \"./Test\"\n",
    "train_params['training_iters'] = trials\n",
    "train_params['learning_rate'] = .001\n",
    "train_params['loss_epoch'] = 10\n",
    "train_params['save_training_weights_epoch'] = 1000 / N_batch\n",
    "train_params['training_weights_path'] = None"
   ]
  },
  {
   "cell_type": "code",
   "execution_count": 8,
   "id": "63fc6dd7",
   "metadata": {
    "scrolled": false
   },
   "outputs": [
    {
     "name": "stdout",
     "output_type": "stream",
     "text": [
      "WARNING:tensorflow:From D:\\BU\\ChandLab\\PsychRNN\\psychrnn\\backend\\gain\\basic2.py:111: where (from tensorflow.python.ops.array_ops) is deprecated and will be removed in a future version.\n",
      "Instructions for updating:\n",
      "Use tf.where in 2.0, which has the same broadcast rule as np.where\n"
     ]
    },
    {
     "name": "stderr",
     "output_type": "stream",
     "text": [
      "WARNING:tensorflow:From D:\\BU\\ChandLab\\PsychRNN\\psychrnn\\backend\\gain\\basic2.py:111: where (from tensorflow.python.ops.array_ops) is deprecated and will be removed in a future version.\n",
      "Instructions for updating:\n",
      "Use tf.where in 2.0, which has the same broadcast rule as np.where\n"
     ]
    },
    {
     "name": "stdout",
     "output_type": "stream",
     "text": [
      "Iter 500, Minibatch Loss= 0.120842\n",
      "Iter 1000, Minibatch Loss= 0.101133\n",
      "Iter 1500, Minibatch Loss= 0.068164\n",
      "Iter 2000, Minibatch Loss= 0.050524\n",
      "Iter 2500, Minibatch Loss= 0.044962\n",
      "Iter 3000, Minibatch Loss= 0.039341\n",
      "Iter 3500, Minibatch Loss= 0.042639\n",
      "Iter 4000, Minibatch Loss= 0.035708\n",
      "Iter 4500, Minibatch Loss= 0.024954\n",
      "Iter 5000, Minibatch Loss= 0.029703\n",
      "Iter 5500, Minibatch Loss= 0.023170\n",
      "Iter 6000, Minibatch Loss= 0.021874\n",
      "Iter 6500, Minibatch Loss= 0.025642\n",
      "Iter 7000, Minibatch Loss= 0.020432\n",
      "Iter 7500, Minibatch Loss= 0.026036\n",
      "Iter 8000, Minibatch Loss= 0.032879\n",
      "Iter 8500, Minibatch Loss= 0.021866\n",
      "Iter 9000, Minibatch Loss= 0.021893\n",
      "Iter 9500, Minibatch Loss= 0.017220\n",
      "Iter 10000, Minibatch Loss= 0.031229\n",
      "Iter 10500, Minibatch Loss= 0.012626\n",
      "Iter 11000, Minibatch Loss= 0.017249\n",
      "Iter 11500, Minibatch Loss= 0.012326\n",
      "Iter 12000, Minibatch Loss= 0.017873\n",
      "Iter 12500, Minibatch Loss= 0.019233\n",
      "Iter 13000, Minibatch Loss= 0.025117\n",
      "Iter 13500, Minibatch Loss= 0.017479\n",
      "Iter 14000, Minibatch Loss= 0.017027\n",
      "Iter 14500, Minibatch Loss= 0.011613\n",
      "Iter 15000, Minibatch Loss= 0.015271\n",
      "Iter 15500, Minibatch Loss= 0.017950\n",
      "Iter 16000, Minibatch Loss= 0.013792\n",
      "Iter 16500, Minibatch Loss= 0.014678\n",
      "Iter 17000, Minibatch Loss= 0.015041\n",
      "Iter 17500, Minibatch Loss= 0.012727\n",
      "Iter 18000, Minibatch Loss= 0.008139\n",
      "Iter 18500, Minibatch Loss= 0.018635\n",
      "Iter 19000, Minibatch Loss= 0.013841\n",
      "Iter 19500, Minibatch Loss= 0.013059\n",
      "Iter 20000, Minibatch Loss= 0.011375\n",
      "Iter 20500, Minibatch Loss= 0.007391\n",
      "Iter 21000, Minibatch Loss= 0.015037\n",
      "Iter 21500, Minibatch Loss= 0.012393\n",
      "Iter 22000, Minibatch Loss= 0.019039\n",
      "Iter 22500, Minibatch Loss= 0.008576\n",
      "Iter 23000, Minibatch Loss= 0.013384\n",
      "Iter 23500, Minibatch Loss= 0.008256\n",
      "Iter 24000, Minibatch Loss= 0.020321\n",
      "Iter 24500, Minibatch Loss= 0.008669\n",
      "Optimization finished!\n",
      "Model saved in file: ./Test\n"
     ]
    }
   ],
   "source": [
    "losses, initialTime, trainTime = model.train(task, train_params)"
   ]
  },
  {
   "cell_type": "code",
   "execution_count": 9,
   "id": "e5119f05",
   "metadata": {
    "scrolled": false
   },
   "outputs": [
    {
     "data": {
      "text/plain": [
       "Text(0.5, 1.0, 'Loss During Training')"
      ]
     },
     "execution_count": 9,
     "metadata": {},
     "output_type": "execute_result"
    },
    {
     "data": {
      "image/png": "[encoded data removed]",
      "text/plain": [
       "<Figure size 432x288 with 1 Axes>"
      ]
     },
     "metadata": {
      "needs_background": "light"
     },
     "output_type": "display_data"
    }
   ],
   "source": [
    "plt.plot(losses)\n",
    "plt.ylabel(\"Loss\")\n",
    "plt.xlabel(\"Training Iteration\")\n",
    "plt.title(\"Loss During Training\")"
   ]
  },
  {
   "cell_type": "markdown",
   "id": "caf33fe3",
   "metadata": {},
   "source": [
    "### Test on 5000 trials to examine performance"
   ]
  },
  {
   "cell_type": "code",
   "execution_count": 10,
   "id": "0a9bb136",
   "metadata": {},
   "outputs": [],
   "source": [
    "trials = 5000\n",
    "batches = int(np.ceil(trials / N_batch))\n",
    "\n",
    "rnn_state = np.zeros((trials, task.N_steps, model.N_rec))\n",
    "rnn_out = np.zeros((trials, task.N_steps, model.N_out))\n",
    "\n",
    "coherence = np.zeros(trials)\n",
    "green_side = np.zeros(trials)\n",
    "target_onset = np.zeros(trials)\n",
    "checker_onset = np.zeros(trials)\n",
    "\n",
    "decision = np.zeros(trials)\n",
    "rt = np.zeros(trials)"
   ]
  },
  {
   "cell_type": "code",
   "execution_count": 11,
   "id": "12546f87",
   "metadata": {
    "scrolled": false
   },
   "outputs": [
    {
     "name": "stderr",
     "output_type": "stream",
     "text": [
      "100%|████████████████████████████████████████████████████████████████████████████████| 100/100 [00:30<00:00,  3.23it/s]\n"
     ]
    }
   ],
   "source": [
    "for b in tqdm(range(batches)):\n",
    "    x, y, m, params = task.get_trial_batch()\n",
    "    outputs, states, inputs = model.test(x)\n",
    "    \n",
    "    start_index = N_batch * b\n",
    "    end_index = N_batch * (b + 1)\n",
    "    rnn_state[start_index:end_index] = states\n",
    "    rnn_out[start_index:end_index] = outputs\n",
    "    \n",
    "    thr = np.where(outputs > 0.7)\n",
    "    \n",
    "    for i in range(N_batch):\n",
    "        index = start_index + i\n",
    "        \n",
    "        coherence[index] = params[i][\"coherence\"]\n",
    "        green_side[index] = params[i][\"side\"]\n",
    "        target_onset[index] = params[i][\"target_onset\"]\n",
    "        checker_onset[index] = params[i][\"checker_onset\"]\n",
    "        \n",
    "        thr_time = thr[1][thr[0]==i][0] if sum(thr[0]==i) > 0 else outputs.shape[1]\n",
    "        thr_unit = thr[2][thr[0]==i][0] if sum(thr[0]==i) > 0 else np.argmax(outputs[i, -1])\n",
    "        decision[index] = thr_unit\n",
    "        rt[index] = thr_time*task.dt - target_onset[index] - checker_onset[index]       "
   ]
  },
  {
   "cell_type": "code",
   "execution_count": null,
   "id": "b4971da9",
   "metadata": {
    "scrolled": true
   },
   "outputs": [],
   "source": [
    "#onsets = [p[\"onset_time\"] for p in params]\n",
    "onsets = target_onset[-N_batch:] + checker_onset[-N_batch:]\n",
    "rts = rt[-N_batch:]\n",
    "for i in range(10):\n",
    "    plt.figure()\n",
    "    plt.plot(np.arange(0, 3000, 10), inputs[i, :, 0])\n",
    "    plt.plot(np.arange(0, 3000, 10), inputs[i, :, 1])\n",
    "    plt.plot(np.arange(0, 3000, 10), inputs[i, :, 2])\n",
    "    plt.plot(np.arange(0, 3000, 10), inputs[i, :, 3])\n",
    "\n",
    "    plt.figure()\n",
    "    plt.plot(np.arange(0, 3000, 10), outputs[i, :, 0])\n",
    "    plt.plot(np.arange(0, 3000, 10), outputs[i, :, 1])\n",
    "    \n",
    "    plt.vlines(onsets[i], 0, 1)\n",
    "    plt.vlines(onsets[i] + rts[i], 0, 1)\n",
    "    plt.hlines(0.7, 0, 3000)"
   ]
  },
  {
   "cell_type": "code",
   "execution_count": 12,
   "id": "86628168",
   "metadata": {
    "scrolled": true
   },
   "outputs": [],
   "source": [
    "correct_side = np.array([gs if coh > 0 else abs(gs-1) for coh, gs in zip(coherence, green_side)])\n",
    "green_decision = np.array([int(dec == gs) for dec, gs in zip(decision, green_side)])\n",
    "checker_df = pd.DataFrame({'trial' : np.arange(trials),\n",
    "                           'coherence' : coherence,\n",
    "                           'coherence_bin' : np.round(coherence, 1),\n",
    "                           'green_side' : green_side,\n",
    "                           'correct_side' : correct_side,\n",
    "                           'target_onset' : target_onset,\n",
    "                           'checker_onset' : checker_onset,\n",
    "                           'decision' : decision,\n",
    "                           'green_decision' : green_decision,\n",
    "                           'decision_time' : rt,\n",
    "                           'correct_decision' : (decision == correct_side).astype(int)})\n",
    "checker_mean = checker_df.groupby('coherence_bin').mean().reset_index()\n"
   ]
  },
  {
   "cell_type": "code",
   "execution_count": 13,
   "id": "d6b6ab43",
   "metadata": {},
   "outputs": [
    {
     "data": {
      "text/plain": [
       "<matplotlib.collections.PathCollection at 0x209a867d248>"
      ]
     },
     "execution_count": 13,
     "metadata": {},
     "output_type": "execute_result"
    },
    {
     "data": {
      "image/png": "[encoded data removed]",
      "text/plain": [
       "<Figure size 432x288 with 1 Axes>"
      ]
     },
     "metadata": {
      "needs_background": "light"
     },
     "output_type": "display_data"
    },
    {
     "data": {
      "image/png": "[encoded data removed]",
      "text/plain": [
       "<Figure size 432x288 with 1 Axes>"
      ]
     },
     "metadata": {
      "needs_background": "light"
     },
     "output_type": "display_data"
    }
   ],
   "source": [
    "plt.figure()\n",
    "plt.plot(checker_mean['coherence_bin'], checker_mean['green_decision'])\n",
    "plt.scatter(checker_mean['coherence_bin'], checker_mean['green_decision'])\n",
    "\n",
    "plt.figure()\n",
    "plt.plot(checker_mean['coherence_bin'], checker_mean['decision_time'])\n",
    "plt.scatter(checker_mean['coherence_bin'], checker_mean['decision_time'])"
   ]
  },
  {
   "cell_type": "markdown",
   "id": "b2521071",
   "metadata": {},
   "source": [
    "# RT within same coherence"
   ]
  },
  {
   "cell_type": "code",
   "execution_count": null,
   "id": "96139f08",
   "metadata": {},
   "outputs": [],
   "source": [
    "for i in [0.9,0.7,0.5,0.3,0.1,0]:\n",
    "    a = checker_df['coherence_bin'] == i\n",
    "    groupCo = checker_df.loc[a,:]\n",
    "    RT = groupCo[\"decision_time\"]\n",
    "    plt.figure()\n",
    "    plt.hist(RT)\n",
    "    plt.title(\"Coherence: \" + str(i))"
   ]
  },
  {
   "cell_type": "code",
   "execution_count": 14,
   "id": "a0a71779",
   "metadata": {},
   "outputs": [
    {
     "name": "stdout",
     "output_type": "stream",
     "text": [
      "ERROR! Session/line number was not unique in database. History logging moved to new session 493\n"
     ]
    }
   ],
   "source": [
    "model.destruct()"
   ]
  },
  {
   "cell_type": "markdown",
   "id": "ideal-assistant",
   "metadata": {},
   "source": [
    "# load a model to test "
   ]
  },
  {
   "cell_type": "code",
   "execution_count": 20,
   "id": "tamil-toyota",
   "metadata": {},
   "outputs": [],
   "source": [
    "experiment = 'interactive'\n",
    "name = 'basic'\n",
    "dt = 10\n",
    "tau = 50\n",
    "T = 3000\n",
    "N_batch = 50\n",
    "N_rec = 100\n",
    "\n",
    "task = Checkerboard2AFC(dt=dt, tau=tau, T=T, N_batch=N_batch)\n",
    "\n",
    "network_params = task.get_task_params()\n",
    "network_params['name'] = name\n",
    "network_params['N_rec'] = N_rec\n",
    "network_params['rec_noise'] = 0.1\n",
    "network_params[\"transfer_function\"] = tf.nn.relu\n",
    "network_params[\"output_transfer_function\"] = tf.nn.sigmoid\n",
    "network_params[\"loss_function\"] = \"rt_mask_mse\"\n",
    "network_params[\"rt_mask_mse\"] = rt_mask_mse_07\n",
    "network_params['load_weights_path'] = \"Test.npz\"\n",
    "network_params['gain_bound'] = [1, 2]\n",
    "model2 = Basic2(network_params)"
   ]
  },
  {
   "cell_type": "code",
   "execution_count": 21,
   "id": "c51923a1",
   "metadata": {},
   "outputs": [
    {
     "name": "stderr",
     "output_type": "stream",
     "text": [
      "100%|████████████████████████████████████████████████████████████████████████████████| 100/100 [00:37<00:00,  2.69it/s]\n"
     ]
    }
   ],
   "source": [
    "trials = 5000\n",
    "batches = int(np.ceil(trials / N_batch))\n",
    "\n",
    "rnn_state = np.zeros((trials, task.N_steps, model2.N_rec))\n",
    "rnn_out = np.zeros((trials, task.N_steps, model2.N_out))\n",
    "\n",
    "coherence = np.zeros(trials)\n",
    "green_side = np.zeros(trials)\n",
    "target_onset = np.zeros(trials)\n",
    "checker_onset = np.zeros(trials)\n",
    "decision = np.zeros(trials)\n",
    "rt = np.zeros(trials)\n",
    "\n",
    "for b in tqdm(range(batches)):\n",
    "    x, y, m, params = task.get_trial_batch()\n",
    "    outputs, states, inputs = model2.test(x)\n",
    "    \n",
    "    start_index = N_batch * b\n",
    "    end_index = N_batch * (b + 1)\n",
    "    rnn_state[start_index:end_index] = states\n",
    "    rnn_out[start_index:end_index] = outputs\n",
    "    \n",
    "    thr = np.where(outputs > 0.7)\n",
    "    \n",
    "    for i in range(N_batch):\n",
    "        index = start_index + i\n",
    "        \n",
    "        coherence[index] = params[i][\"coherence\"]\n",
    "        green_side[index] = params[i][\"side\"]\n",
    "        target_onset[index] = params[i][\"target_onset\"]\n",
    "        checker_onset[index] = params[i][\"checker_onset\"]\n",
    "        \n",
    "        thr_time = thr[1][thr[0]==i][0] if sum(thr[0]==i) > 0 else outputs.shape[1]\n",
    "        thr_unit = thr[2][thr[0]==i][0] if sum(thr[0]==i) > 0 else np.argmax(outputs[i, -1])\n",
    "        decision[index] = thr_unit\n",
    "        rt[index] = thr_time*task.dt - target_onset[index] - checker_onset[index]       "
   ]
  },
  {
   "cell_type": "code",
   "execution_count": 22,
   "id": "proud-interstate",
   "metadata": {},
   "outputs": [],
   "source": [
    "correct_side = np.array([gs if coh > 0 else abs(gs-1) for coh, gs in zip(coherence, green_side)])\n",
    "green_decision = np.array([int(dec == gs) for dec, gs in zip(decision, green_side)])\n",
    "checker_df = pd.DataFrame({'trial' : np.arange(trials),\n",
    "                           'coherence' : coherence,\n",
    "                           'coherence_bin' : np.round(coherence, 1),\n",
    "                           'green_side' : green_side,\n",
    "                           'correct_side' : correct_side,\n",
    "                           'target_onset' : target_onset,\n",
    "                           'checker_onset' : checker_onset,\n",
    "                           'decision' : decision,\n",
    "                           'green_decision' : green_decision,\n",
    "                           'decision_time' : rt,\n",
    "                           'correct_decision' : (decision == correct_side).astype(int)})\n",
    "checker_mean = checker_df.groupby('coherence_bin').mean().reset_index()\n",
    "\n",
    "#######################\n",
    "## summary result saving path\n",
    "\n",
    "# resultPath = \"./resultData/summary_recNoise\" + str(network_params['rec_noise']) + \"round\" + str(round) + \".csv\"\n",
    "# checker_df.to_csv(resultPath)"
   ]
  },
  {
   "cell_type": "code",
   "execution_count": 23,
   "id": "exempt-poverty",
   "metadata": {},
   "outputs": [
    {
     "data": {
      "text/plain": [
       "<matplotlib.collections.PathCollection at 0x20ab1d682c8>"
      ]
     },
     "execution_count": 23,
     "metadata": {},
     "output_type": "execute_result"
    },
    {
     "data": {
      "image/png": "[encoded data removed]",
      "text/plain": [
       "<Figure size 936x360 with 2 Axes>"
      ]
     },
     "metadata": {
      "needs_background": "light"
     },
     "output_type": "display_data"
    }
   ],
   "source": [
    "plt.figure(figsize=(13, 5))\n",
    "plt.subplot(1,2,1)\n",
    "plt.plot(checker_mean['coherence_bin'], checker_mean['green_decision'])\n",
    "plt.scatter(checker_mean['coherence_bin'], checker_mean['green_decision'])\n",
    "\n",
    "plt.subplot(1,2,2)\n",
    "plt.plot(checker_mean['coherence_bin'], checker_mean['decision_time'])\n",
    "plt.scatter(checker_mean['coherence_bin'], checker_mean['decision_time'])\n",
    "\n"
   ]
  },
  {
   "cell_type": "code",
   "execution_count": 24,
   "id": "abroad-charity",
   "metadata": {},
   "outputs": [],
   "source": [
    "model2.destruct()"
   ]
  },
  {
   "cell_type": "markdown",
   "id": "recreational-obligation",
   "metadata": {},
   "source": [
    "# Conclusion: No change in loaded model vs original model for basic2 model "
   ]
  },
  {
   "cell_type": "code",
   "execution_count": null,
   "id": "significant-actor",
   "metadata": {},
   "outputs": [],
   "source": []
  }
 ],
 "metadata": {
  "kernelspec": {
   "display_name": "Python 3",
   "language": "python",
   "name": "python3"
  },
  "language_info": {
   "codemirror_mode": {
    "name": "ipython",
    "version": 3
   },
   "file_extension": ".py",
   "mimetype": "text/x-python",
   "name": "python",
   "nbconvert_exporter": "python",
   "pygments_lexer": "ipython3",
   "version": "3.7.9"
  },
  "varInspector": {
   "cols": {
    "lenName": 16,
    "lenType": 16,
    "lenVar": 40
   },
   "kernels_config": {
    "python": {
     "delete_cmd_postfix": "",
     "delete_cmd_prefix": "del ",
     "library": "var_list.py",
     "varRefreshCmd": "print(var_dic_list())"
    },
    "r": {
     "delete_cmd_postfix": ") ",
     "delete_cmd_prefix": "rm(",
     "library": "var_list.r",
     "varRefreshCmd": "cat(var_dic_list()) "
    }
   },
   "position": {
    "height": "373.85px",
    "left": "1170.66px",
    "right": "20px",
    "top": "-2px",
    "width": "350px"
   },
   "types_to_exclude": [
    "module",
    "function",
    "builtin_function_or_method",
    "instance",
    "_Feature"
   ],
   "window_display": false
  }
 },
 "nbformat": 4,
 "nbformat_minor": 5
}
