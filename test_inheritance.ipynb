{
 "cells": [
  {
   "cell_type": "code",
   "execution_count": null,
   "id": "5e61ae4e",
   "metadata": {},
   "outputs": [],
   "source": [
    "# test inheritance: Gain3 won't allowed created another constructor"
   ]
  },
  {
   "cell_type": "code",
   "execution_count": 1,
   "id": "3071d6a7",
   "metadata": {},
   "outputs": [],
   "source": [
    "import tensorflow as tf\n",
    "from psychrnn.backend.models.basic import Basic\n",
    "from psychrnn.backend.gain.gain3 import Gain3\n",
    "from psychrnn.backend.gain.loss import rt_mask_mse_06, rt_mask_mse_07, rt_mask_mse_08\n",
    "from psychrnn.tasks.checker2 import Checkerboard2AFC\n",
    "\n",
    "from tqdm import tqdm\n",
    "import numpy as np\n",
    "import pandas as pd\n",
    "from matplotlib import pyplot as plt\n",
    "%matplotlib inline\n",
    "\n",
    "import os"
   ]
  },
  {
   "cell_type": "code",
   "execution_count": 2,
   "id": "79519f4f",
   "metadata": {},
   "outputs": [],
   "source": [
    "experiment = 'interactive'\n",
    "name = 'basic'\n",
    "dt = 10\n",
    "tau = 50\n",
    "T = 5000\n",
    "N_batch = 50\n",
    "N_rec = 100\n",
    "\n",
    "g0_bound = [0, 1]\n",
    "gSlope_bound = [0,0.05]\n",
    "\n",
    "task = Checkerboard2AFC(dt=dt, tau=tau, T=T, N_batch=N_batch, g0_bound = g0_bound, gSlope_bound = gSlope_bound)"
   ]
  },
  {
   "cell_type": "code",
   "execution_count": 3,
   "id": "6b15c243",
   "metadata": {},
   "outputs": [
    {
     "ename": "TypeError",
     "evalue": "object.__init__() takes exactly one argument (the instance to initialize)",
     "output_type": "error",
     "traceback": [
      "\u001b[0;31m---------------------------------------------------------------------------\u001b[0m",
      "\u001b[0;31mTypeError\u001b[0m                                 Traceback (most recent call last)",
      "\u001b[0;32m<ipython-input-3-67e755c46e4d>\u001b[0m in \u001b[0;36m<module>\u001b[0;34m\u001b[0m\n\u001b[1;32m     16\u001b[0m     \u001b[0;32mpass\u001b[0m\u001b[0;34m\u001b[0m\u001b[0;34m\u001b[0m\u001b[0m\n\u001b[1;32m     17\u001b[0m \u001b[0;34m\u001b[0m\u001b[0m\n\u001b[0;32m---> 18\u001b[0;31m \u001b[0mmodel\u001b[0m \u001b[0;34m=\u001b[0m \u001b[0mGain3\u001b[0m\u001b[0;34m(\u001b[0m\u001b[0mnetwork_params\u001b[0m\u001b[0;34m)\u001b[0m\u001b[0;34m\u001b[0m\u001b[0;34m\u001b[0m\u001b[0m\n\u001b[0m\u001b[1;32m     19\u001b[0m \u001b[0;31m# model.output_transfer_function = network_params.get(\u001b[0m\u001b[0;34m\u001b[0m\u001b[0;34m\u001b[0m\u001b[0;34m\u001b[0m\u001b[0m\n\u001b[1;32m     20\u001b[0m \u001b[0;31m#     \"output_transfer_function\", tf.nn.relu\u001b[0m\u001b[0;34m\u001b[0m\u001b[0;34m\u001b[0m\u001b[0;34m\u001b[0m\u001b[0m\n",
      "\u001b[0;32m~/code/behaviorRNN/PsychRNN/psychrnn/backend/gain/gain3.py\u001b[0m in \u001b[0;36m__init__\u001b[0;34m(self, params)\u001b[0m\n\u001b[1;32m     30\u001b[0m \u001b[0;34m\u001b[0m\u001b[0m\n\u001b[1;32m     31\u001b[0m \u001b[0;34m\u001b[0m\u001b[0m\n\u001b[0;32m---> 32\u001b[0;31m         \u001b[0msuper\u001b[0m\u001b[0;34m(\u001b[0m\u001b[0mRNN\u001b[0m\u001b[0;34m,\u001b[0m \u001b[0mself\u001b[0m\u001b[0;34m)\u001b[0m\u001b[0;34m.\u001b[0m\u001b[0m__init__\u001b[0m\u001b[0;34m(\u001b[0m\u001b[0mparams\u001b[0m\u001b[0;34m)\u001b[0m\u001b[0;34m\u001b[0m\u001b[0;34m\u001b[0m\u001b[0m\n\u001b[0m\u001b[1;32m     33\u001b[0m         self.output_transfer_function = params.get(\n\u001b[1;32m     34\u001b[0m             \u001b[0;34m\"output_transfer_function\"\u001b[0m\u001b[0;34m,\u001b[0m \u001b[0mtf\u001b[0m\u001b[0;34m.\u001b[0m\u001b[0mnn\u001b[0m\u001b[0;34m.\u001b[0m\u001b[0mrelu\u001b[0m\u001b[0;34m\u001b[0m\u001b[0;34m\u001b[0m\u001b[0m\n",
      "\u001b[0;31mTypeError\u001b[0m: object.__init__() takes exactly one argument (the instance to initialize)"
     ]
    }
   ],
   "source": [
    "network_params = task.get_task_params()\n",
    "network_params['name'] = name\n",
    "network_params['N_rec'] = N_rec\n",
    "network_params['rec_noise'] = 0.5\n",
    "\n",
    "network_params[\"transfer_function\"] = tf.nn.relu\n",
    "network_params[\"output_transfer_function\"] = tf.nn.sigmoid\n",
    "\n",
    "network_params[\"loss_function\"] = \"rt_mask_mse\"\n",
    "network_params[\"rt_mask_mse\"] = rt_mask_mse_07\n",
    "\n",
    "\n",
    "try:\n",
    "    model.destruct()\n",
    "except:\n",
    "    pass\n",
    "\n",
    "model = Gain3(network_params)\n",
    "# model.output_transfer_function = network_params.get(\n",
    "#     \"output_transfer_function\", tf.nn.relu\n",
    "# )\n",
    "# model.decision_threshold = network_params.get(\"decision_threshold\", np.inf)"
   ]
  }
 ],
 "metadata": {
  "kernelspec": {
   "display_name": "Python 3",
   "language": "python",
   "name": "python3"
  },
  "language_info": {
   "codemirror_mode": {
    "name": "ipython",
    "version": 3
   },
   "file_extension": ".py",
   "mimetype": "text/x-python",
   "name": "python",
   "nbconvert_exporter": "python",
   "pygments_lexer": "ipython3",
   "version": "3.7.9"
  },
  "varInspector": {
   "cols": {
    "lenName": 16,
    "lenType": 16,
    "lenVar": 40
   },
   "kernels_config": {
    "python": {
     "delete_cmd_postfix": "",
     "delete_cmd_prefix": "del ",
     "library": "var_list.py",
     "varRefreshCmd": "print(var_dic_list())"
    },
    "r": {
     "delete_cmd_postfix": ") ",
     "delete_cmd_prefix": "rm(",
     "library": "var_list.r",
     "varRefreshCmd": "cat(var_dic_list()) "
    }
   },
   "types_to_exclude": [
    "module",
    "function",
    "builtin_function_or_method",
    "instance",
    "_Feature"
   ],
   "window_display": false
  }
 },
 "nbformat": 4,
 "nbformat_minor": 5
}
