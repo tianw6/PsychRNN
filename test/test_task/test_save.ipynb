{
 "cells": [
  {
   "cell_type": "code",
   "execution_count": 1,
   "id": "compliant-amplifier",
   "metadata": {},
   "outputs": [],
   "source": [
    "from psychrnn.tasks.task import Task\n",
    "import numpy as np\n",
    "from matplotlib import pyplot as plt"
   ]
  },
  {
   "cell_type": "code",
   "execution_count": 81,
   "id": "aerial-border",
   "metadata": {},
   "outputs": [],
   "source": [
    "N_in = 4\n",
    "N_out = 2; \n",
    "dt = 10\n",
    "tau  = 20\n",
    "T = 2000\n",
    "coherence=[-0.9, 0.9]\n",
    "side=0.5\n",
    "noise=0.25\n",
    "target_onset=[250, 500]\n",
    "checker_onset=[500, 1000]\n",
    "accumulation_mask=300\n",
    "decision_threshold = 0.7\n",
    "post_decision_baseline = 0.2\n",
    "wait = 0.2\n",
    "hi = 1\n",
    "lo = 0\n",
    "\n",
    "\n",
    "# define trial parameters\n",
    "params = {}\n",
    "\n",
    "params[\"coherence\"] = (\n",
    "    coherence\n",
    "    if len(coherence) == 1\n",
    "    else np.random.uniform(coherence[0], coherence[1])\n",
    ")\n",
    "params[\"side\"] = int(np.random.random() < side)\n",
    "params[\"noise\"] = noise\n",
    "params[\"accumulation_mask\"] = accumulation_mask\n",
    "# at a random time between target onset boundary, show target; same for checker onset\n",
    "params[\"target_onset\"] = np.random.randint(target_onset[0], target_onset[1])\n",
    "params[\"checker_onset\"] = np.random.randint(checker_onset[0], checker_onset[1])"
   ]
  },
  {
   "cell_type": "code",
   "execution_count": 16,
   "id": "going-psychiatry",
   "metadata": {},
   "outputs": [],
   "source": [
    "## define correct side\n",
    "target_onset = params[\"target_onset\"]\n",
    "checker_onset = params[\"checker_onset\"]\n",
    "accumulation_mask = params[\"accumulation_mask\"]\n",
    "coherence = params[\"coherence\"]\n",
    "green_side = params[\"side\"]\n",
    "correct_side = green_side if coherence > 0 else abs(green_side - 1)\n",
    "\n",
    "## define t: specific time at which it generate the parameters\n",
    "t = 40\n",
    "\n",
    "\n",
    "\n",
    "x_t = np.zeros(N_in)\n",
    "x_t[2:] = (params[\"noise\"] ** 2) * np.sqrt(dt) * np.random.randn(2)\n",
    "if t > target_onset:\n",
    "    x_t[0] = 2 * green_side - 1\n",
    "    x_t[1] = -(2 * green_side - 1)\n",
    "if t > target_onset + checker_onset:\n",
    "    x_t[2] += coherence\n",
    "    x_t[3] -= coherence\n",
    "\n",
    "# ----------------------------------\n",
    "# Generate output and mask\n",
    "# ----------------------------------\n",
    "\n",
    "y_t = np.zeros(N_out) + wait\n",
    "if t > target_onset + checker_onset:\n",
    "    y_t[correct_side] = hi\n",
    "    y_t[abs(correct_side - 1)] = lo\n",
    "\n",
    "mask_t = np.ones(N_out)\n",
    "if (t > target_onset + checker_onset) and (t < target_onset + checker_onset + accumulation_mask):\n",
    "    mask_t = np.zeros(N_out)\n"
   ]
  },
  {
   "cell_type": "markdown",
   "id": "e3c3fbc1",
   "metadata": {},
   "source": [
    "# Generate a batch of trials"
   ]
  },
  {
   "cell_type": "code",
   "execution_count": 2,
   "id": "military-binary",
   "metadata": {},
   "outputs": [
    {
     "ename": "ModuleNotFoundError",
     "evalue": "No module named 'psychrnn.tasks.checker'",
     "output_type": "error",
     "traceback": [
      "\u001b[0;31m---------------------------------------------------------------------------\u001b[0m",
      "\u001b[0;31mModuleNotFoundError\u001b[0m                       Traceback (most recent call last)",
      "\u001b[0;32m<ipython-input-2-d9082e3db57c>\u001b[0m in \u001b[0;36m<module>\u001b[0;34m\u001b[0m\n\u001b[0;32m----> 1\u001b[0;31m \u001b[0;32mfrom\u001b[0m \u001b[0mpsychrnn\u001b[0m\u001b[0;34m.\u001b[0m\u001b[0mtasks\u001b[0m\u001b[0;34m.\u001b[0m\u001b[0mchecker\u001b[0m \u001b[0;32mimport\u001b[0m \u001b[0mCheckerboard2AFC\u001b[0m\u001b[0;34m\u001b[0m\u001b[0;34m\u001b[0m\u001b[0m\n\u001b[0m\u001b[1;32m      2\u001b[0m \u001b[0;34m\u001b[0m\u001b[0m\n\u001b[1;32m      3\u001b[0m \u001b[0mnewChecker\u001b[0m \u001b[0;34m=\u001b[0m \u001b[0mCheckerboard2AFC\u001b[0m\u001b[0;34m(\u001b[0m\u001b[0mdt\u001b[0m \u001b[0;34m=\u001b[0m \u001b[0;36m10\u001b[0m\u001b[0;34m,\u001b[0m \u001b[0mtau\u001b[0m  \u001b[0;34m=\u001b[0m \u001b[0;36m20\u001b[0m\u001b[0;34m,\u001b[0m \u001b[0mT\u001b[0m \u001b[0;34m=\u001b[0m \u001b[0;36m2000\u001b[0m\u001b[0;34m,\u001b[0m \u001b[0mN_batch\u001b[0m \u001b[0;34m=\u001b[0m \u001b[0;36m128\u001b[0m\u001b[0;34m)\u001b[0m\u001b[0;34m\u001b[0m\u001b[0;34m\u001b[0m\u001b[0m\n",
      "\u001b[0;31mModuleNotFoundError\u001b[0m: No module named 'psychrnn.tasks.checker'"
     ]
    }
   ],
   "source": [
    "from psychrnn.tasks.checker import Checkerboard2AFC\n",
    "\n",
    "newChecker = Checkerboard2AFC(dt = 10, tau  = 20, T = 2000, N_batch = 128)"
   ]
  },
  {
   "cell_type": "code",
   "execution_count": 58,
   "id": "fb8d9643",
   "metadata": {},
   "outputs": [],
   "source": [
    "# generate a batch of trials and output all parameters\n",
    "batchTrials = newChecker.batch_generator()\n",
    "[x, y, mask, allParams] = newChecker.get_trial_batch()"
   ]
  },
  {
   "cell_type": "code",
   "execution_count": 76,
   "id": "c8d7ca46",
   "metadata": {},
   "outputs": [
    {
     "data": {
      "text/plain": [
       "{'coherence': 0.25364327680312704,\n",
       " 'side': 0,\n",
       " 'noise': 0.25,\n",
       " 'accumulation_mask': 300,\n",
       " 'target_onset': 274,\n",
       " 'checker_onset': 939}"
      ]
     },
     "execution_count": 76,
     "metadata": {},
     "output_type": "execute_result"
    }
   ],
   "source": [
    "# side = 0  correct is left\n",
    "# side = 1  correct is right\n",
    "allParams[1]"
   ]
  },
  {
   "cell_type": "code",
   "execution_count": 87,
   "id": "45846f6a",
   "metadata": {},
   "outputs": [
    {
     "data": {
      "text/plain": [
       "[<matplotlib.lines.Line2D at 0x7f4d1c27a4d0>]"
      ]
     },
     "execution_count": 87,
     "metadata": {},
     "output_type": "execute_result"
    },
    {
     "data": {
      "image/png": "[encoded data removed]",
      "text/plain": [
       "<Figure size 432x288 with 1 Axes>"
      ]
     },
     "metadata": {
      "needs_background": "light"
     },
     "output_type": "display_data"
    },
    {
     "data": {
      "image/png": "[encoded data removed]",
      "text/plain": [
       "<Figure size 432x288 with 1 Axes>"
      ]
     },
     "metadata": {
      "needs_background": "light"
     },
     "output_type": "display_data"
    },
    {
     "data": {
      "image/png": "[encoded data removed]",
      "text/plain": [
       "<Figure size 432x288 with 1 Axes>"
      ]
     },
     "metadata": {
      "needs_background": "light"
     },
     "output_type": "display_data"
    },
    {
     "data": {
      "image/png": "[encoded data removed]",
      "text/plain": [
       "<Figure size 432x288 with 1 Axes>"
      ]
     },
     "metadata": {
      "needs_background": "light"
     },
     "output_type": "display_data"
    }
   ],
   "source": [
    "# 1a: left tartet red (-1) or green (+1)\n",
    "# 1b: right target red (-1) or green (+1)\n",
    "# 2a: red coherence (-1 to 1) ()\n",
    "# 2b: green coherence (-1 to 1) (G-R) / (R+G)\n",
    "trialIn = x[1,:,:]\n",
    "trialOut = y[1,:,:]\n",
    "trialMask = mask[1,:,:]\n",
    "time = np.linspace(0, T, int(T/dt))\n",
    "# plot input to the model\n",
    "plt.figure()\n",
    "plt.plot(time, trialIn[:,0], label = 'left')\n",
    "plt.plot(time, trialIn[:,1], label = 'right')\n",
    "plt.legend()\n",
    "\n",
    "plt.figure()\n",
    "plt.plot(time, trialIn[:,2], color = 'red')\n",
    "plt.plot(time, trialIn[:,3], color = 'green')\n",
    "# plot output to the model\n",
    "plt.figure()\n",
    "plt.plot(time, trialOut[:,0], label = 'left')\n",
    "plt.plot(time, trialOut[:,1], label = 'right')\n",
    "plt.legend()\n",
    "# plot trial masks\n",
    "plt.figure()\n",
    "plt.plot(time, trialMask[:,0])"
   ]
  },
  {
   "cell_type": "code",
   "execution_count": 41,
   "id": "d7d76e3f",
   "metadata": {},
   "outputs": [
    {
     "name": "stdout",
     "output_type": "stream",
     "text": [
      "{'N_batch': 128, 'N_in': 4, 'N_out': 2, 'dt': 10, 'tau': 20, 'T': 2000, 'alpha': 0.5, 'N_steps': 200, 'coherence': [-0.9, 0.9], 'side': 0.5, 'noise': 0.25, 'target_onset': [250, 500], 'checker_onset': [500, 1000], 'accumulation_mask': 300, 'decision_threshold': 0.7, 'post_decision_baseline': 0.2, 'wait': 0.2, 'hi': 1, 'lo': 0}\n"
     ]
    }
   ],
   "source": [
    "# get all parameters for the task\n",
    "params = newChecker.get_task_params();\n",
    "print(params)"
   ]
  },
  {
   "cell_type": "markdown",
   "id": "b046e738",
   "metadata": {},
   "source": [
    "# # Test model parameters"
   ]
  },
  {
   "cell_type": "code",
   "execution_count": 44,
   "id": "b0496bea",
   "metadata": {},
   "outputs": [],
   "source": [
    "## vars(Object_name) check all attributes and value\n",
    "from __future__ import division\n",
    "\n",
    "from psychrnn.backend.models.basic import Basic\n",
    "import tensorflow as tf\n",
    "tf.compat.v1.disable_eager_execution()"
   ]
  },
  {
   "cell_type": "code",
   "execution_count": 23,
   "id": "ec784ad2",
   "metadata": {},
   "outputs": [],
   "source": [
    "rnn_inputs = tf.unstack(x, axis=1)\n"
   ]
  },
  {
   "cell_type": "code",
   "execution_count": 57,
   "id": "772b2868",
   "metadata": {},
   "outputs": [],
   "source": [
    "params['name'] = 'model'\n",
    "params['N_rec'] = 100\n",
    "model = Basic(params)\n",
    "# check initializer of value\n",
    "test = model.initializer\n"
   ]
  },
  {
   "cell_type": "code",
   "execution_count": 60,
   "id": "c34ae185",
   "metadata": {},
   "outputs": [
    {
     "name": "stdout",
     "output_type": "stream",
     "text": [
      "WARNING:tensorflow:From /home/tianwang/anaconda3/envs/tf1.15/lib/python3.7/site-packages/tensorflow_core/python/ops/clip_ops.py:172: where (from tensorflow.python.ops.array_ops) is deprecated and will be removed in a future version.\n",
      "Instructions for updating:\n",
      "Use tf.where in 2.0, which has the same broadcast rule as np.where\n",
      "Iter 1280, Minibatch Loss= 0.049677\n",
      "Iter 2560, Minibatch Loss= 0.026910\n",
      "Iter 3840, Minibatch Loss= 0.017034\n",
      "Iter 5120, Minibatch Loss= 0.013588\n",
      "Iter 6400, Minibatch Loss= 0.013114\n",
      "Iter 7680, Minibatch Loss= 0.008890\n",
      "Iter 8960, Minibatch Loss= 0.012991\n",
      "Iter 10240, Minibatch Loss= 0.006648\n",
      "Iter 11520, Minibatch Loss= 0.008713\n",
      "Iter 12800, Minibatch Loss= 0.007698\n",
      "Iter 14080, Minibatch Loss= 0.007128\n",
      "Iter 15360, Minibatch Loss= 0.011034\n",
      "Iter 16640, Minibatch Loss= 0.008485\n",
      "Iter 17920, Minibatch Loss= 0.004118\n",
      "Iter 19200, Minibatch Loss= 0.006953\n",
      "Iter 20480, Minibatch Loss= 0.011975\n",
      "Iter 21760, Minibatch Loss= 0.009058\n",
      "Iter 23040, Minibatch Loss= 0.005368\n",
      "Iter 24320, Minibatch Loss= 0.006685\n",
      "Iter 25600, Minibatch Loss= 0.008529\n",
      "Iter 26880, Minibatch Loss= 0.006382\n",
      "Iter 28160, Minibatch Loss= 0.004955\n",
      "Iter 29440, Minibatch Loss= 0.008558\n",
      "Iter 30720, Minibatch Loss= 0.005812\n",
      "Iter 32000, Minibatch Loss= 0.007316\n",
      "Iter 33280, Minibatch Loss= 0.011171\n",
      "Iter 34560, Minibatch Loss= 0.005719\n",
      "Iter 35840, Minibatch Loss= 0.006689\n",
      "Iter 37120, Minibatch Loss= 0.010240\n",
      "Iter 38400, Minibatch Loss= 0.003221\n",
      "Iter 39680, Minibatch Loss= 0.007044\n",
      "Iter 40960, Minibatch Loss= 0.009473\n",
      "Iter 42240, Minibatch Loss= 0.004918\n",
      "Iter 43520, Minibatch Loss= 0.006356\n",
      "Iter 44800, Minibatch Loss= 0.004129\n",
      "Iter 46080, Minibatch Loss= 0.004609\n",
      "Iter 47360, Minibatch Loss= 0.007427\n",
      "Iter 48640, Minibatch Loss= 0.005437\n",
      "Iter 49920, Minibatch Loss= 0.004381\n",
      "Optimization finished!\n"
     ]
    },
    {
     "data": {
      "text/plain": [
       "([0.049676504,\n",
       "  0.026910251,\n",
       "  0.017034309,\n",
       "  0.013588494,\n",
       "  0.013113756,\n",
       "  0.008890157,\n",
       "  0.0129912235,\n",
       "  0.006648096,\n",
       "  0.008712989,\n",
       "  0.007697817,\n",
       "  0.007127574,\n",
       "  0.011034185,\n",
       "  0.008485263,\n",
       "  0.004118374,\n",
       "  0.0069526094,\n",
       "  0.011974604,\n",
       "  0.009058166,\n",
       "  0.0053682835,\n",
       "  0.006684587,\n",
       "  0.008528915,\n",
       "  0.0063818847,\n",
       "  0.0049552466,\n",
       "  0.008558219,\n",
       "  0.0058116848,\n",
       "  0.0073164036,\n",
       "  0.011170673,\n",
       "  0.0057189893,\n",
       "  0.006688923,\n",
       "  0.010239638,\n",
       "  0.0032214285,\n",
       "  0.0070438944,\n",
       "  0.009473104,\n",
       "  0.004917821,\n",
       "  0.006355746,\n",
       "  0.0041294666,\n",
       "  0.004609341,\n",
       "  0.007426656,\n",
       "  0.005437279,\n",
       "  0.00438093],\n",
       " 172.20070695877075,\n",
       " 7.544342041015625)"
      ]
     },
     "execution_count": 60,
     "metadata": {},
     "output_type": "execute_result"
    }
   ],
   "source": [
    "model.train(batchTrials, {})"
   ]
  },
  {
   "cell_type": "code",
   "execution_count": 61,
   "id": "a4ad6e00",
   "metadata": {},
   "outputs": [],
   "source": [
    "# test the model\n",
    "model_output, model_state = model.test(x) # run the model on input x"
   ]
  },
  {
   "cell_type": "code",
   "execution_count": 62,
   "id": "01d43294",
   "metadata": {},
   "outputs": [
    {
     "data": {
      "text/plain": [
       "[<matplotlib.lines.Line2D at 0x7f4d4c45e4d0>,\n",
       " <matplotlib.lines.Line2D at 0x7f4d4c4667d0>]"
      ]
     },
     "execution_count": 62,
     "metadata": {},
     "output_type": "execute_result"
    },
    {
     "data": {
      "image/png": "[encoded data removed]",
      "text/plain": [
       "<Figure size 432x288 with 1 Axes>"
      ]
     },
     "metadata": {
      "needs_background": "light"
     },
     "output_type": "display_data"
    }
   ],
   "source": [
    "plt.plot(model_output[0,:,:])"
   ]
  },
  {
   "cell_type": "code",
   "execution_count": 96,
   "id": "8ff7bd7c",
   "metadata": {},
   "outputs": [
    {
     "data": {
      "text/plain": [
       "{'N_batch': 128,\n",
       " 'N_in': 4,\n",
       " 'N_out': 2,\n",
       " 'dt': 10,\n",
       " 'tau': 20,\n",
       " 'T': 2000,\n",
       " 'alpha': 0.5,\n",
       " 'N_steps': 200,\n",
       " 'coherence': [-0.9, 0.9],\n",
       " 'side': 0.5,\n",
       " 'noise': 0.25,\n",
       " 'target_onset': [250, 500],\n",
       " 'checker_onset': [500, 1000],\n",
       " 'accumulation_mask': 300,\n",
       " 'decision_threshold': 0.7,\n",
       " 'post_decision_baseline': 0.2,\n",
       " 'wait': 0.2,\n",
       " 'hi': 1,\n",
       " 'lo': 0,\n",
       " 'name': 'model',\n",
       " 'N_rec': 100}"
      ]
     },
     "execution_count": 96,
     "metadata": {},
     "output_type": "execute_result"
    }
   ],
   "source": [
    "a = model.params\n",
    "a.get('W_in_train', True)\n",
    "a"
   ]
  }
 ],
 "metadata": {
  "kernelspec": {
   "display_name": "Python 3",
   "language": "python",
   "name": "python3"
  },
  "language_info": {
   "codemirror_mode": {
    "name": "ipython",
    "version": 3
   },
   "file_extension": ".py",
   "mimetype": "text/x-python",
   "name": "python",
   "nbconvert_exporter": "python",
   "pygments_lexer": "ipython3",
   "version": "3.7.9"
  },
  "varInspector": {
   "cols": {
    "lenName": 16,
    "lenType": 16,
    "lenVar": 40
   },
   "kernels_config": {
    "python": {
     "delete_cmd_postfix": "",
     "delete_cmd_prefix": "del ",
     "library": "var_list.py",
     "varRefreshCmd": "print(var_dic_list())"
    },
    "r": {
     "delete_cmd_postfix": ") ",
     "delete_cmd_prefix": "rm(",
     "library": "var_list.r",
     "varRefreshCmd": "cat(var_dic_list()) "
    }
   },
   "position": {
    "height": "389.067px",
    "left": "870.2px",
    "right": "20px",
    "top": "-3px",
    "width": "350px"
   },
   "types_to_exclude": [
    "module",
    "function",
    "builtin_function_or_method",
    "instance",
    "_Feature"
   ],
   "window_display": false
  }
 },
 "nbformat": 4,
 "nbformat_minor": 5
}
